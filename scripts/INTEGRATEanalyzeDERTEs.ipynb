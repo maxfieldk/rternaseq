{
 "cells": [
  {
   "cell_type": "code",
   "execution_count": 1,
   "metadata": {
    "vscode": {
     "languageId": "r"
    }
   },
   "outputs": [
    {
     "name": "stderr",
     "output_type": "stream",
     "text": [
      "\n",
      "Attaching package: 'dplyr'\n",
      "\n",
      "\n",
      "The following objects are masked from 'package:stats':\n",
      "\n",
      "    filter, lag\n",
      "\n",
      "\n",
      "The following objects are masked from 'package:base':\n",
      "\n",
      "    intersect, setdiff, setequal, union\n",
      "\n",
      "\n"
     ]
    }
   ],
   "source": [
    "library('readr')\n",
    "library(\"stringr\")\n",
    "library('dplyr')\n",
    "library(\"ggplot2\")\n",
    "library('tibble')\n",
    "library(\"RColorBrewer\")\n",
    "library(\"magrittr\")\n",
    "library(\"cowplot\")\n",
    "library(\"eulerr\")\n",
    "library(\"RIdeogram\")"
   ]
  },
  {
   "cell_type": "code",
   "execution_count": null,
   "metadata": {
    "vscode": {
     "languageId": "r"
    }
   },
   "outputs": [],
   "source": [
    "\"results/agg/repeatanalysis/allactiveDETEs.tsv\""
   ]
  }
 ],
 "metadata": {
  "kernelspec": {
   "display_name": "R",
   "language": "R",
   "name": "ir"
  },
  "language_info": {
   "codemirror_mode": "r",
   "file_extension": ".r",
   "mimetype": "text/x-r-source",
   "name": "R",
   "pygments_lexer": "r",
   "version": "4.2.2"
  },
  "orig_nbformat": 4,
  "vscode": {
   "interpreter": {
    "hash": "2cebda6207d7434c158a5f1d06bd834dabca63be0a1d5b03d5dca08c88c9d3da"
   }
  }
 },
 "nbformat": 4,
 "nbformat_minor": 2
}
