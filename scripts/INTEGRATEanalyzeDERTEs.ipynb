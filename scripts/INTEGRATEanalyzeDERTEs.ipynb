{
 "cells": [
  {
   "cell_type": "code",
   "execution_count": null,
   "id": "de067f2a",
   "metadata": {
    "tags": [
     "snakemake-job-properties"
    ]
   },
   "outputs": [],
   "source": [
    "\n",
    "######## snakemake preamble start (automatically inserted, do not edit) ########\n",
    "library(methods)\n",
    "Snakemake <- setClass(\n",
    "    \"Snakemake\",\n",
    "    slots = c(\n",
    "        input = \"list\",\n",
    "        output = \"list\",\n",
    "        params = \"list\",\n",
    "        wildcards = \"list\",\n",
    "        threads = \"numeric\",\n",
    "        log = \"list\",\n",
    "        resources = \"list\",\n",
    "        config = \"list\",\n",
    "        rule = \"character\",\n",
    "        bench_iteration = \"numeric\",\n",
    "        scriptdir = \"character\",\n",
    "        source = \"function\"\n",
    "    )\n",
    ")\n",
    "snakemake <- Snakemake(\n",
    "    input = list(),\n",
    "    output = list('outfile_sharedetes.txt', \"outfile\" = 'outfile_sharedetes.txt'),\n",
    "    params = list('conf/peptable.csv', \"peptable\" = 'conf/peptable.csv'),\n",
    "    wildcards = list(),\n",
    "    threads = 1,\n",
    "    log = list(),\n",
    "    resources = list('tmpdir', \"tmpdir\" = '/tmp'),\n",
    "    config = list(\"sample_table\" = 'conf/sample_table.csv', \"trimmomaticdir\" = 'tools/Trimmomatic-0.39', \"hs1sorted\" = '/users/mkelsey/data/ref/genomes/hs1/hs1.sorted.fa', \"locindTElocal\" = '/users/mkelsey/data/ref/genomes/hs1/TElocal/T2T_CHM13_v2_rmsk_TE.gtf.locInd', \"telocalmapping\" = '/users/mkelsey/data/ref/genomes/hs1/TElocal/T2T_CHM13_v2_rmsk_TE.gtf.locInd.locations', \"bowtie2hs1index\" = '/users/mkelsey/data/ref/genomes/hs1/hs1.sorted_bowtie2/hs1', \"starindex\" = '/users/mkelsey/data/ref/genomes/hs1/STARindex', \"refseq\" = '/users/mkelsey/data/ref/genomes/hs1/annotations/hs1.110.20220412.ncbiRefSeqUCSCstyle.gtf', \"repeats\" = '/users/mkelsey/data/ref/genomes/hs1/annotations/hs1_RepeatMasker.sorted', \"repeatsbed\" = '/users/mkelsey/data/ref/genomes/hs1/annotations/repeatmasker.bed', \"l1hs6kb\" = '/users/mkelsey/data/ref/genomes/hs1/annotations/L1HS6kb', \"aluY\" = '/users/mkelsey/data/ref/genomes/hs1/annotations/aluY', \"HERVK\" = '/users/mkelsey/data/ref/genomes/hs1/annotations/HERVK', \"l1hs6kbintact\" = '/users/mkelsey/data/ref/genomes/hs1/annotations/L1HS6kbintact', \"l1hs6kbintactbed\" = '/users/mkelsey/data/ref/genomes/hs1/annotations/L1HS6kbintact.bed5', \"SenMayoHuman\" = '/users/mkelsey/data/ref/genesets/SenMayoGeneSetHuman.txt', \"genelistsforplot\" = c('/users/mkelsey/data/ref/genesets/sasp.txt'), \"featureCountsstrandparam\" = '2', \"telocalstrandparam\" = 'reverse', \"levels\" = c('PRO', 'SEN'), \"contrasts\" = c('condition_SEN_vs_PRO'), \"counttypes\" = c('star', 'telocal_multi', 'telocal_uniq'), \"telocaltypes\" = c('telocal_multi', 'telocal_uniq'), \"levelslegendmap\" = list(\"PRO\" = 'proliferating', \"SEN\" = 'senescent'), \"contrast_colors\" = list(\"ESEN_vs_PRO\" = 'blue', \"LSEN_vs_PRO\" = 'red'), \"condition_colors\" = list(\"PRO\" = 'green', \"QUI\" = 'blue', \"SEN\" = 'red', \"X3TC\" = 'orange', \"FTC\" = 'salmon', \"CAS\" = 'brown', \"KREB\" = 'yellow'), \"namedcolorlist\" = list(\"L1UP\" = '8c00ff', \"AluUP\" = 'ff9d00', \"ERVKUP\" = 'ff7be2', \"L1HSUP\" = '8c00ff', \"AluYUP\" = 'ff9d00', \"HERVK-intUP\" = 'ff7be2', \"L1DOWN\" = '00ff62', \"AluDOWN\" = '0be7e4', \"ERVKDOWN\" = '8c00ff', \"L1HSDOWN\" = '00ff62', \"AluYDOWN\" = '0be7e4', \"HERVK-intDOWN\" = '8c00ff'), \"namedmarkerlist\" = list(\"L1\" = 'circle', \"Alu\" = 'box', \"ERVK\" = 'triange', \"L1HS\" = 'circle', \"AluY\" = 'box', \"HERVK-int\" = 'triangle'), \"rtestoplot\" = c('L1HS', 'AluY', 'HERVK-int'), \"genedensity\" = list(\"L1HS\" = '/users/mkelsey/data/ref/genomes/hs1/annotations/hs1.L1HS.density.bed4', \"AluY\" = '/users/mkelsey/data/ref/genomes/hs1/annotations/hs1.HERVK.density.bed4', \"HERVK-int\" = '/users/mkelsey/data/ref/genomes/hs1/annotations/hs1.AluY.density.bed4'), \"karyotype\" = '/users/mkelsey/data/ref/genomes/hs1/karyotype.tsv'),\n",
    "    rule = 'INTEGRATEdetermineSharedDeTes',\n",
    "    bench_iteration = as.numeric(NA),\n",
    "    scriptdir = '/gpfs/data/jsedivy/mkelsey/rnaIntegration/scripts',\n",
    "    source = function(...){\n",
    "        wd <- getwd()\n",
    "        setwd(snakemake@scriptdir)\n",
    "        source(...)\n",
    "        setwd(wd)\n",
    "    }\n",
    ")\n",
    "setwd('/gpfs/data/jsedivy/mkelsey/rnaIntegration');\n",
    "\n",
    "######## snakemake preamble end #########\n"
   ]
  },
  {
   "cell_type": "code",
   "execution_count": null,
   "id": "ada11044",
   "metadata": {},
   "outputs": [],
   "source": [
    "# start coding here"
   ]
  }
 ],
 "metadata": {
  "language_info": {
   "name": "r"
  }
 },
 "nbformat": 4,
 "nbformat_minor": 5
}