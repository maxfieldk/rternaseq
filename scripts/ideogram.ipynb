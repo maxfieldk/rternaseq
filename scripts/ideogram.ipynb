{
 "cells": [
  {
   "cell_type": "code",
   "execution_count": 1,
   "metadata": {
    "vscode": {
     "languageId": "r"
    }
   },
   "outputs": [
    {
     "name": "stderr",
     "output_type": "stream",
     "text": [
      "\n",
      "Attaching package: 'dplyr'\n",
      "\n",
      "\n",
      "The following objects are masked from 'package:stats':\n",
      "\n",
      "    filter, lag\n",
      "\n",
      "\n",
      "The following objects are masked from 'package:base':\n",
      "\n",
      "    intersect, setdiff, setequal, union\n",
      "\n",
      "\n",
      "Loading required package: S4Vectors\n",
      "\n",
      "Loading required package: stats4\n",
      "\n",
      "Loading required package: BiocGenerics\n",
      "\n",
      "\n",
      "Attaching package: 'BiocGenerics'\n",
      "\n",
      "\n",
      "The following objects are masked from 'package:dplyr':\n",
      "\n",
      "    combine, intersect, setdiff, union\n",
      "\n",
      "\n",
      "The following objects are masked from 'package:stats':\n",
      "\n",
      "    IQR, mad, sd, var, xtabs\n",
      "\n",
      "\n",
      "The following objects are masked from 'package:base':\n",
      "\n",
      "    Filter, Find, Map, Position, Reduce, anyDuplicated, aperm, append,\n",
      "    as.data.frame, basename, cbind, colnames, dirname, do.call,\n",
      "    duplicated, eval, evalq, get, grep, grepl, intersect, is.unsorted,\n",
      "    lapply, mapply, match, mget, order, paste, pmax, pmax.int, pmin,\n",
      "    pmin.int, rank, rbind, rownames, sapply, setdiff, sort, table,\n",
      "    tapply, union, unique, unsplit, which.max, which.min\n",
      "\n",
      "\n",
      "\n",
      "Attaching package: 'S4Vectors'\n",
      "\n",
      "\n",
      "The following objects are masked from 'package:dplyr':\n",
      "\n",
      "    first, rename\n",
      "\n",
      "\n",
      "The following objects are masked from 'package:base':\n",
      "\n",
      "    I, expand.grid, unname\n",
      "\n",
      "\n",
      "Loading required package: IRanges\n",
      "\n",
      "\n",
      "Attaching package: 'IRanges'\n",
      "\n",
      "\n",
      "The following objects are masked from 'package:dplyr':\n",
      "\n",
      "    collapse, desc, slice\n",
      "\n",
      "\n",
      "Loading required package: GenomicRanges\n",
      "\n",
      "Loading required package: GenomeInfoDb\n",
      "\n",
      "\n",
      "Attaching package: 'GenomicRanges'\n",
      "\n",
      "\n",
      "The following object is masked from 'package:magrittr':\n",
      "\n",
      "    subtract\n",
      "\n",
      "\n",
      "Loading required package: grid\n",
      "\n",
      "Loading required package: Rcpp\n",
      "\n",
      "Loading required package: AnnotationDbi\n",
      "\n",
      "Loading required package: Biobase\n",
      "\n",
      "Welcome to Bioconductor\n",
      "\n",
      "    Vignettes contain introductory material; view with\n",
      "    'browseVignettes()'. To cite Bioconductor, see\n",
      "    'citation(\"Biobase\")', and for packages 'citation(\"pkgname\")'.\n",
      "\n",
      "\n",
      "\n",
      "Attaching package: 'AnnotationDbi'\n",
      "\n",
      "\n",
      "The following object is masked from 'package:dplyr':\n",
      "\n",
      "    select\n",
      "\n",
      "\n",
      "\n",
      "\n"
     ]
    }
   ],
   "source": [
    "library('readr')\n",
    "library(\"stringr\")\n",
    "library('dplyr')\n",
    "library(\"ggplot2\")\n",
    "library('tibble')\n",
    "library(\"RColorBrewer\")\n",
    "library(\"magrittr\")\n",
    "library(\"cowplot\")\n",
    "library(\"eulerr\")\n",
    "library(\"ggVennDiagram\")\n",
    "library('Gviz')\n",
    "library('GenomicRanges')\n",
    "library('rtracklayer')\n",
    "library('trackViewer')\n",
    "library(\"org.Hs.eg.db\")\n",
    "library(\"RIdeogram\")"
   ]
  },
  {
   "cell_type": "code",
   "execution_count": 2,
   "metadata": {
    "vscode": {
     "languageId": "r"
    }
   },
   "outputs": [],
   "source": [
    "makeLegendGrob <- function(labels, fill = c(\"red\", \"blue\"), cex = 1.5) {\n",
    "    return(legendGrob(labels,\n",
    "        pch = 21,\n",
    "        gp = gpar(\n",
    "            col = \"black\",\n",
    "            fill = fill,\n",
    "            cex = cex\n",
    "        )\n",
    "    )\n",
    "    )\n",
    "}"
   ]
  },
  {
   "cell_type": "code",
   "execution_count": 3,
   "metadata": {
    "vscode": {
     "languageId": "r"
    }
   },
   "outputs": [],
   "source": [
    "colors = factor(c(\"blue\", \"red\"), ordered = TRUE)"
   ]
  },
  {
   "cell_type": "code",
   "execution_count": 4,
   "metadata": {
    "vscode": {
     "languageId": "r"
    }
   },
   "outputs": [],
   "source": [
    "  legd <- legendGrob(c(\"Girls\", \"Boys\", \"dog\"), pch=21, gp=gpar(col = \"black\",fill = factor(c(\"red\", \"blue\"), ordered = TRUE), cex = 2))"
   ]
  },
  {
   "cell_type": "code",
   "execution_count": 5,
   "metadata": {
    "vscode": {
     "languageId": "r"
    }
   },
   "outputs": [],
   "source": [
    "    legd <- makeLegendGrob(c(\"Girls\", \"Boys\", \"dog\"))\n"
   ]
  },
  {
   "cell_type": "code",
   "execution_count": 6,
   "metadata": {
    "vscode": {
     "languageId": "r"
    }
   },
   "outputs": [],
   "source": [
    "p = ggplot()"
   ]
  },
  {
   "cell_type": "code",
   "execution_count": 11,
   "metadata": {
    "vscode": {
     "languageId": "r"
    }
   },
   "outputs": [],
   "source": [
    "        p <- plot_grid(p + theme(legend.position = \"none\"),\n",
    "            nrow = 1,\n",
    "            rel_widths = c(1), labels = \"AUTO\",\n",
    "            align = \"vh\",\n",
    "            axis = \"bt\")"
   ]
  },
  {
   "cell_type": "code",
   "execution_count": 12,
   "metadata": {
    "vscode": {
     "languageId": "r"
    }
   },
   "outputs": [
    {
     "data": {
      "image/png": "[encoded data removed]",
      "text/plain": [
       "plot without title"
      ]
     },
     "metadata": {
      "image/png": {
       "height": 420,
       "width": 420
      }
     },
     "output_type": "display_data"
    }
   ],
   "source": [
    "plot_grid(p, legd, nrow = 2, rel_heights = c(1,0.2))"
   ]
  },
  {
   "cell_type": "code",
   "execution_count": null,
   "metadata": {
    "vscode": {
     "languageId": "r"
    }
   },
   "outputs": [],
   "source": []
  },
  {
   "cell_type": "code",
   "execution_count": null,
   "metadata": {
    "vscode": {
     "languageId": "r"
    }
   },
   "outputs": [],
   "source": []
  },
  {
   "cell_type": "code",
   "execution_count": 7,
   "metadata": {
    "vscode": {
     "languageId": "r"
    }
   },
   "outputs": [],
   "source": [
    "get_ideogram_labels = function(rtedf, elementlist, namedmarkerlist, namedcolorlist) {\n",
    "    tempdf = rtedf[,c(1,3,4,5)]\n",
    "    colnames(tempdf) = c(\"Type\", \"Chr\", \"Start\", \"End\")\n",
    "    tempdf = tempdf %>% filter(Type %in% elementlist)\n",
    "    tempdf = tempdf %>% mutate(Shape = namedmarkerlist[Type]) %>% mutate(color = namedcolorlist[Type])\n",
    "    df = tempdf[,c(\"Type\", \"Shape\", \"Chr\", \"Start\", \"End\", \"color\")]\n",
    "    return(df)\n",
    "}"
   ]
  },
  {
   "cell_type": "code",
   "execution_count": 100,
   "metadata": {
    "vscode": {
     "languageId": "r"
    }
   },
   "outputs": [],
   "source": [
    "karyotype = read.csv(\"/users/mkelsey/data/ref/genomes/hs1/karyotype.csv\")"
   ]
  },
  {
   "cell_type": "code",
   "execution_count": 111,
   "metadata": {
    "vscode": {
     "languageId": "r"
    }
   },
   "outputs": [],
   "source": [
    "write.table(karyotype, \"/users/mkelsey/data/ref/genomes/hs1/karyotype.tsv\",row.names = TRUE, sep = '\\t')"
   ]
  },
  {
   "cell_type": "code",
   "execution_count": 116,
   "metadata": {
    "vscode": {
     "languageId": "r"
    }
   },
   "outputs": [],
   "source": [
    "gene_density <- GFFex(input = \"/users/mkelsey/data/ref/genomes/hs1/annotations/hs1.110.20220412.ncbiRefSeqUCSCstyle.gtf\", karyotype = \"/users/mkelsey/data/ref/genomes/hs1/karyotype.tsv\", feature = \"exon\", window = 1000000)\n"
   ]
  },
  {
   "cell_type": "code",
   "execution_count": 124,
   "metadata": {
    "vscode": {
     "languageId": "r"
    }
   },
   "outputs": [],
   "source": [
    "rtes = read.delim(\"/users/mkelsey/data/marco/results/agg/repeatanalysis/allactiveDETEs.tsv\", sep = '\\t', header = FALSE)\n",
    "rownames(rtes) = 1:nrow(rtes)"
   ]
  },
  {
   "cell_type": "code",
   "execution_count": 143,
   "metadata": {
    "vscode": {
     "languageId": "r"
    }
   },
   "outputs": [],
   "source": [
    "labels = get_ideogram_labels(rtes, c(\"L1HS\"), c(\"L1HS\" = \"circle\"), c(\"L1HS\"= \"6a3d9a\"))"
   ]
  },
  {
   "cell_type": "code",
   "execution_count": 144,
   "metadata": {
    "vscode": {
     "languageId": "r"
    }
   },
   "outputs": [],
   "source": [
    "ideogram(karyotype = karyotype, overlaid = gene_density, label = labels, label_type = \"marker\")"
   ]
  },
  {
   "cell_type": "code",
   "execution_count": 145,
   "metadata": {
    "vscode": {
     "languageId": "r"
    }
   },
   "outputs": [],
   "source": [
    "convertSVG(\"chromosome.svg\", device = \"png\")"
   ]
  },
  {
   "cell_type": "code",
   "execution_count": null,
   "metadata": {
    "vscode": {
     "languageId": "r"
    }
   },
   "outputs": [],
   "source": []
  },
  {
   "cell_type": "code",
   "execution_count": null,
   "metadata": {
    "vscode": {
     "languageId": "r"
    }
   },
   "outputs": [],
   "source": []
  },
  {
   "cell_type": "code",
   "execution_count": null,
   "metadata": {
    "vscode": {
     "languageId": "r"
    }
   },
   "outputs": [],
   "source": []
  },
  {
   "cell_type": "code",
   "execution_count": 50,
   "metadata": {
    "vscode": {
     "languageId": "r"
    }
   },
   "outputs": [],
   "source": [
    "\n",
    "library(\"readr\")\n",
    "library(\"stringr\")\n",
    "library(\"dplyr\")\n",
    "library(\"ggplot2\")\n",
    "library(\"tibble\")\n",
    "library(\"RColorBrewer\")\n",
    "library(\"magrittr\")\n",
    "library(\"cowplot\")\n",
    "library(\"eulerr\")\n",
    "library(\"ggVennDiagram\")\n",
    "library(\"Gviz\")\n",
    "library(\"GenomicRanges\")\n",
    "library(\"rtracklayer\")\n",
    "library(\"trackViewer\")\n",
    "library(\"org.Hs.eg.db\")\n",
    "# order matters for the colors!\n",
    "\n",
    "######## MAIN FUNCTIONS\n",
    "#### PLOTTING\n",
    "plotRTE <- function(rte, df, lims = c(-1, 11), title = \"\", colors = c(\"red\", \"blue\", \"grey\"), alpha = 1, number_to_sample = NULL) {\n",
    "    matches <- grep(rte, results$Geneid)\n",
    "    dat <- results[matches, ]\n",
    "    if (is.null(number_to_sample)) {\n",
    "        rteplot <- dat %>% ggplot() +\n",
    "            geom_point(aes(x = .data[[xval]], y = .data[[yval]], color = Significance)) +\n",
    "            geom_abline(intercept = 0) +\n",
    "            coord_fixed() +\n",
    "            xlim(lims) +\n",
    "            ylim(lims) +\n",
    "            scale_color_manual(values = colors) +\n",
    "            theme_cowplot() +\n",
    "            ggtitle(title) +\n",
    "            panel_border(color = \"black\", linetype = 1, remove = FALSE) +\n",
    "            theme(axis.line = element_blank()) +\n",
    "            labs(x = paste(quanttype, \"counts\", levelslegendmap[contrast_base_level], sep = \" \"), y = paste(quanttype, \"counts\", levelslegendmap[contrast_level_2], sep = \" \"))\n",
    "        return(rteplot)\n",
    "    } else {\n",
    "        number_to_sample <- min(length(rownames(dat)), number_to_sample)\n",
    "        datasampled <- dat[sample(rownames(dat), number_to_sample, replace = FALSE), ]\n",
    "        rteplot <- datasampled %>% ggplot() +\n",
    "            geom_point(aes(x = .data[[xval]], y = .data[[yval]], color = Significance)) +\n",
    "            geom_abline(intercept = 0) +\n",
    "            coord_fixed() +\n",
    "            xlim(lims) +\n",
    "            ylim(lims) +\n",
    "            scale_color_manual(values = colors) +\n",
    "            theme_cowplot() +\n",
    "            ggtitle(title) +\n",
    "            panel_border(color = \"black\", linetype = 1, remove = FALSE) +\n",
    "            theme(axis.line = element_blank()) +\n",
    "            labs(x = paste(quanttype, \"counts\", levelslegendmap[contrast_base_level], sep = \" \"), y = paste(quanttype, \"counts\", levelslegendmap[contrast_level_2], sep = \" \"))\n",
    "        return(rteplot)\n",
    "    }\n",
    "}\n",
    "\n",
    "plotAggRTE <- function(df, coltogroupby = \"ActiveTE\", valuescol = \"log2FoldChange\") {\n",
    "    agg <- df %>%\n",
    "        filter(.data[[coltogroupby]] != \"Other\") %>%\n",
    "        ggplot(aes(x = .data[[coltogroupby]], y = .data[[valuescol]])) +\n",
    "        geom_violin(draw_quantiles = c(0.5)) +\n",
    "        stat_summary(fun = \"mean\", geom = \"point\", color = \"black\") +\n",
    "        geom_hline(aes(yintercept = 0), color = \"red\") +\n",
    "        ggtitle(\"RTEs\") +\n",
    "        coord_fixed() +\n",
    "        ylim(c(-11, 11)) +\n",
    "        theme_cowplot() +\n",
    "        panel_border(color = \"black\", linetype = 1, remove = FALSE) +\n",
    "        theme(axis.line = element_blank()) +\n",
    "        theme(aspect.ratio = 1)\n",
    "    return(agg)\n",
    "}\n",
    "\n",
    "makeLegendGrob <- function(labels, fill = c(\"blue\", \"red\"), cex = 1) {\n",
    "    return(legendGrob(labels,\n",
    "        pch = 21,\n",
    "        gp = gpar(\n",
    "            col = \"black\",\n",
    "            fill = fill,\n",
    "            cex = cex\n",
    "        )\n",
    "    ))\n",
    "}\n",
    "\n",
    "euPlot <- function(fit, contrasts, fill = factor(c(\"blue\", \"red\"), ordered = TRUE), alpha = 0.5,legendcex = 1, legend = TRUE, labels = FALSE, main = \"\") {\n",
    "    if (legend == TRUE) {\n",
    "        legd <- makeLegendGrob(contrasts, fill, legendcex)\n",
    "        p <- plot(\n",
    "            fit,\n",
    "            main = main,\n",
    "            fills = list(fill = fill, alpha=alpha) ,\n",
    "            legend = FALSE,\n",
    "            quantities = list(col = \"black\"),\n",
    "            labels = labels\n",
    "        )\n",
    "        row <- plot_grid(p)\n",
    "        plot <- plot_grid(row, legd, nrow = 2, rel_heights = c(1, 0.25))\n",
    "    } else {\n",
    "        plot(\n",
    "            fit,\n",
    "            main = main,\n",
    "            fills = list(fill = fill, alpha=alpha) ,\n",
    "            legend = FALSE,\n",
    "            quantities = list(col = \"black\"),\n",
    "            labels = labels\n",
    "        )\n",
    "    }\n",
    "}"
   ]
  },
  {
   "cell_type": "code",
   "execution_count": 51,
   "metadata": {
    "vscode": {
     "languageId": "r"
    }
   },
   "outputs": [],
   "source": [
    "l = list(A = c(\"dog\", \"cat\"), B = c(\"dog\", \"zebra\", \"wolf\"))\n",
    "contrasts = c(\"cat\", \"dog\")\n",
    "sig = \"**\"\n",
    "rte = \"L1\"\n",
    "direction = \"UP\"\n",
    "fill = c(\"blue\", \"red\")"
   ]
  },
  {
   "cell_type": "code",
   "execution_count": 52,
   "metadata": {
    "vscode": {
     "languageId": "r"
    }
   },
   "outputs": [],
   "source": [
    "fit <- euler(l, shape = \"ellipse\")\n"
   ]
  },
  {
   "cell_type": "code",
   "execution_count": 61,
   "metadata": {
    "vscode": {
     "languageId": "r"
    }
   },
   "outputs": [],
   "source": [
    "p <- euPlot(fit, gsub(\"condition_\", \"\", contrasts), fill = fill, alpha = 0.75, main = paste(rte, direction, sep = \" \"), legendcex = 1)\n"
   ]
  },
  {
   "cell_type": "code",
   "execution_count": 62,
   "metadata": {
    "vscode": {
     "languageId": "r"
    }
   },
   "outputs": [],
   "source": [
    "my_comma <- function(num) {format(round(as.numeric(num), 1), nsmall=0, big.mark=\",\")}\n"
   ]
  },
  {
   "cell_type": "code",
   "execution_count": 63,
   "metadata": {
    "vscode": {
     "languageId": "r"
    }
   },
   "outputs": [],
   "source": [
    "num = 1000000\n",
    "pl <- ggdraw(p) +\n",
    "    annotate(\"text\", label = sig, x = Inf, y = Inf, vjust = 1, hjust = 1, size = 20) +\n",
    "    annotate(\"text\", label = paste0(\"\\nU: \", my_comma(num)), x = Inf, y = Inf, vjust = 1, hjust = 1, size = 7)\n"
   ]
  },
  {
   "cell_type": "code",
   "execution_count": 64,
   "metadata": {
    "vscode": {
     "languageId": "r"
    }
   },
   "outputs": [
    {
     "data": {
      "image/png": "[encoded data removed]",
      "text/plain": [
       "plot without title"
      ]
     },
     "metadata": {
      "image/png": {
       "height": 420,
       "width": 420
      }
     },
     "output_type": "display_data"
    }
   ],
   "source": [
    "pl"
   ]
  },
  {
   "cell_type": "code",
   "execution_count": null,
   "metadata": {
    "vscode": {
     "languageId": "r"
    }
   },
   "outputs": [],
   "source": []
  }
 ],
 "metadata": {
  "kernelspec": {
   "display_name": "R",
   "language": "R",
   "name": "ir"
  },
  "language_info": {
   "codemirror_mode": "r",
   "file_extension": ".r",
   "mimetype": "text/x-r-source",
   "name": "R",
   "pygments_lexer": "r",
   "version": "4.2.2"
  },
  "orig_nbformat": 4
 },
 "nbformat": 4,
 "nbformat_minor": 2
}
