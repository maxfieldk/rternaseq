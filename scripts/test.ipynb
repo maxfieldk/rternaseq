{
 "cells": [
  {
   "cell_type": "code",
   "execution_count": 1,
   "metadata": {
    "vscode": {
     "languageId": "r"
    }
   },
   "outputs": [
    {
     "name": "stderr",
     "output_type": "stream",
     "text": [
      "\n",
      "Attaching package: 'dplyr'\n",
      "\n",
      "\n",
      "The following objects are masked from 'package:stats':\n",
      "\n",
      "    filter, lag\n",
      "\n",
      "\n",
      "The following objects are masked from 'package:base':\n",
      "\n",
      "    intersect, setdiff, setequal, union\n",
      "\n",
      "\n",
      "Loading required package: S4Vectors\n",
      "\n",
      "Loading required package: stats4\n",
      "\n",
      "Loading required package: BiocGenerics\n",
      "\n",
      "\n",
      "Attaching package: 'BiocGenerics'\n",
      "\n",
      "\n",
      "The following objects are masked from 'package:dplyr':\n",
      "\n",
      "    combine, intersect, setdiff, union\n",
      "\n",
      "\n",
      "The following objects are masked from 'package:stats':\n",
      "\n",
      "    IQR, mad, sd, var, xtabs\n",
      "\n",
      "\n",
      "The following objects are masked from 'package:base':\n",
      "\n",
      "    Filter, Find, Map, Position, Reduce, anyDuplicated, aperm, append,\n",
      "    as.data.frame, basename, cbind, colnames, dirname, do.call,\n",
      "    duplicated, eval, evalq, get, grep, grepl, intersect, is.unsorted,\n",
      "    lapply, mapply, match, mget, order, paste, pmax, pmax.int, pmin,\n",
      "    pmin.int, rank, rbind, rownames, sapply, setdiff, sort, table,\n",
      "    tapply, union, unique, unsplit, which.max, which.min\n",
      "\n",
      "\n",
      "\n",
      "Attaching package: 'S4Vectors'\n",
      "\n",
      "\n",
      "The following objects are masked from 'package:dplyr':\n",
      "\n",
      "    first, rename\n",
      "\n",
      "\n",
      "The following objects are masked from 'package:base':\n",
      "\n",
      "    I, expand.grid, unname\n",
      "\n",
      "\n",
      "Loading required package: IRanges\n",
      "\n",
      "\n",
      "Attaching package: 'IRanges'\n",
      "\n",
      "\n",
      "The following objects are masked from 'package:dplyr':\n",
      "\n",
      "    collapse, desc, slice\n",
      "\n",
      "\n",
      "Loading required package: GenomicRanges\n",
      "\n",
      "Loading required package: GenomeInfoDb\n",
      "\n",
      "\n",
      "Attaching package: 'GenomicRanges'\n",
      "\n",
      "\n",
      "The following object is masked from 'package:magrittr':\n",
      "\n",
      "    subtract\n",
      "\n",
      "\n",
      "Loading required package: grid\n",
      "\n",
      "Loading required package: Rcpp\n",
      "\n",
      "Loading required package: AnnotationDbi\n",
      "\n",
      "Loading required package: Biobase\n",
      "\n",
      "Welcome to Bioconductor\n",
      "\n",
      "    Vignettes contain introductory material; view with\n",
      "    'browseVignettes()'. To cite Bioconductor, see\n",
      "    'citation(\"Biobase\")', and for packages 'citation(\"pkgname\")'.\n",
      "\n",
      "\n",
      "\n",
      "Attaching package: 'AnnotationDbi'\n",
      "\n",
      "\n",
      "The following object is masked from 'package:dplyr':\n",
      "\n",
      "    select\n",
      "\n",
      "\n",
      "\n",
      "\n"
     ]
    }
   ],
   "source": [
    "library(\"readr\")\n",
    "library(\"stringr\")\n",
    "library(\"dplyr\")\n",
    "library(\"ggplot2\")\n",
    "library(\"tibble\")\n",
    "library(\"RColorBrewer\")\n",
    "library(\"magrittr\")\n",
    "library(\"cowplot\")\n",
    "library(\"eulerr\")\n",
    "library(\"ggVennDiagram\")\n",
    "library(\"Gviz\")\n",
    "library(\"GenomicRanges\")\n",
    "library(\"rtracklayer\")\n",
    "library(\"trackViewer\")\n",
    "library(\"org.Hs.eg.db\")"
   ]
  },
  {
   "cell_type": "code",
   "execution_count": 7,
   "metadata": {
    "vscode": {
     "languageId": "r"
    }
   },
   "outputs": [],
   "source": [
    "df = read.delim(\"/users/mkelsey/data/marco/results/agg/repeatanalysis/allactiveDETEs.tsv\", header = FALSE)"
   ]
  },
  {
   "cell_type": "code",
   "execution_count": 9,
   "metadata": {
    "vscode": {
     "languageId": "r"
    }
   },
   "outputs": [
    {
     "data": {
      "text/html": [
       "<table class=\"dataframe\">\n",
       "<caption>A data.frame: 6 x 10</caption>\n",
       "<thead>\n",
       "\t<tr><th></th><th scope=col>V1</th><th scope=col>V2</th><th scope=col>V3</th><th scope=col>V4</th><th scope=col>V5</th><th scope=col>V6</th><th scope=col>V7</th><th scope=col>V8</th><th scope=col>V9</th><th scope=col>V10</th></tr>\n",
       "\t<tr><th></th><th scope=col>&lt;chr&gt;</th><th scope=col>&lt;chr&gt;</th><th scope=col>&lt;chr&gt;</th><th scope=col>&lt;int&gt;</th><th scope=col>&lt;int&gt;</th><th scope=col>&lt;chr&gt;</th><th scope=col>&lt;chr&gt;</th><th scope=col>&lt;chr&gt;</th><th scope=col>&lt;chr&gt;</th><th scope=col>&lt;int&gt;</th></tr>\n",
       "</thead>\n",
       "<tbody>\n",
       "\t<tr><th scope=row>1</th><td>L1HS</td><td>L1HS_dup877 </td><td>chr6 </td><td> 78052754</td><td> 78054069</td><td>-</td><td>UP</td><td>condition_ESEN_vs_PRO</td><td>telocal_multi</td><td>1315</td></tr>\n",
       "\t<tr><th scope=row>2</th><td>L1HS</td><td>L1HS_dup1394</td><td>chr2 </td><td>193659073</td><td>193660111</td><td>+</td><td>UP</td><td>condition_ESEN_vs_PRO</td><td>telocal_multi</td><td>1038</td></tr>\n",
       "\t<tr><th scope=row>3</th><td>L1HS</td><td>L1HS_dup1407</td><td>chr2 </td><td>217793718</td><td>217794281</td><td>+</td><td>UP</td><td>condition_ESEN_vs_PRO</td><td>telocal_multi</td><td> 563</td></tr>\n",
       "\t<tr><th scope=row>4</th><td>L1HS</td><td>L1HS_dup463 </td><td>chr12</td><td> 51526198</td><td> 51532227</td><td>-</td><td>UP</td><td>condition_ESEN_vs_PRO</td><td>telocal_multi</td><td>6029</td></tr>\n",
       "\t<tr><th scope=row>5</th><td>L1HS</td><td>L1HS_dup496 </td><td>chr12</td><td> 97694975</td><td> 97696990</td><td>+</td><td>UP</td><td>condition_LSEN_vs_PRO</td><td>telocal_multi</td><td>2015</td></tr>\n",
       "\t<tr><th scope=row>6</th><td>L1HS</td><td>L1HS_dup738 </td><td>chr8 </td><td> 90675203</td><td> 90680958</td><td>-</td><td>UP</td><td>condition_LSEN_vs_PRO</td><td>telocal_multi</td><td>5755</td></tr>\n",
       "</tbody>\n",
       "</table>\n"
      ],
      "text/latex": [
       "A data.frame: 6 x 10\n",
       "\\begin{tabular}{r|llllllllll}\n",
       "  & V1 & V2 & V3 & V4 & V5 & V6 & V7 & V8 & V9 & V10\\\\\n",
       "  & <chr> & <chr> & <chr> & <int> & <int> & <chr> & <chr> & <chr> & <chr> & <int>\\\\\n",
       "\\hline\n",
       "\t1 & L1HS & L1HS\\_dup877  & chr6  &  78052754 &  78054069 & - & UP & condition\\_ESEN\\_vs\\_PRO & telocal\\_multi & 1315\\\\\n",
       "\t2 & L1HS & L1HS\\_dup1394 & chr2  & 193659073 & 193660111 & + & UP & condition\\_ESEN\\_vs\\_PRO & telocal\\_multi & 1038\\\\\n",
       "\t3 & L1HS & L1HS\\_dup1407 & chr2  & 217793718 & 217794281 & + & UP & condition\\_ESEN\\_vs\\_PRO & telocal\\_multi &  563\\\\\n",
       "\t4 & L1HS & L1HS\\_dup463  & chr12 &  51526198 &  51532227 & - & UP & condition\\_ESEN\\_vs\\_PRO & telocal\\_multi & 6029\\\\\n",
       "\t5 & L1HS & L1HS\\_dup496  & chr12 &  97694975 &  97696990 & + & UP & condition\\_LSEN\\_vs\\_PRO & telocal\\_multi & 2015\\\\\n",
       "\t6 & L1HS & L1HS\\_dup738  & chr8  &  90675203 &  90680958 & - & UP & condition\\_LSEN\\_vs\\_PRO & telocal\\_multi & 5755\\\\\n",
       "\\end{tabular}\n"
      ],
      "text/markdown": [
       "\n",
       "A data.frame: 6 x 10\n",
       "\n",
       "| <!--/--> | V1 &lt;chr&gt; | V2 &lt;chr&gt; | V3 &lt;chr&gt; | V4 &lt;int&gt; | V5 &lt;int&gt; | V6 &lt;chr&gt; | V7 &lt;chr&gt; | V8 &lt;chr&gt; | V9 &lt;chr&gt; | V10 &lt;int&gt; |\n",
       "|---|---|---|---|---|---|---|---|---|---|---|\n",
       "| 1 | L1HS | L1HS_dup877  | chr6  |  78052754 |  78054069 | - | UP | condition_ESEN_vs_PRO | telocal_multi | 1315 |\n",
       "| 2 | L1HS | L1HS_dup1394 | chr2  | 193659073 | 193660111 | + | UP | condition_ESEN_vs_PRO | telocal_multi | 1038 |\n",
       "| 3 | L1HS | L1HS_dup1407 | chr2  | 217793718 | 217794281 | + | UP | condition_ESEN_vs_PRO | telocal_multi |  563 |\n",
       "| 4 | L1HS | L1HS_dup463  | chr12 |  51526198 |  51532227 | - | UP | condition_ESEN_vs_PRO | telocal_multi | 6029 |\n",
       "| 5 | L1HS | L1HS_dup496  | chr12 |  97694975 |  97696990 | + | UP | condition_LSEN_vs_PRO | telocal_multi | 2015 |\n",
       "| 6 | L1HS | L1HS_dup738  | chr8  |  90675203 |  90680958 | - | UP | condition_LSEN_vs_PRO | telocal_multi | 5755 |\n",
       "\n"
      ],
      "text/plain": [
       "  V1   V2           V3    V4        V5        V6 V7 V8                   \n",
       "1 L1HS L1HS_dup877  chr6   78052754  78054069 -  UP condition_ESEN_vs_PRO\n",
       "2 L1HS L1HS_dup1394 chr2  193659073 193660111 +  UP condition_ESEN_vs_PRO\n",
       "3 L1HS L1HS_dup1407 chr2  217793718 217794281 +  UP condition_ESEN_vs_PRO\n",
       "4 L1HS L1HS_dup463  chr12  51526198  51532227 -  UP condition_ESEN_vs_PRO\n",
       "5 L1HS L1HS_dup496  chr12  97694975  97696990 +  UP condition_LSEN_vs_PRO\n",
       "6 L1HS L1HS_dup738  chr8   90675203  90680958 -  UP condition_LSEN_vs_PRO\n",
       "  V9            V10 \n",
       "1 telocal_multi 1315\n",
       "2 telocal_multi 1038\n",
       "3 telocal_multi  563\n",
       "4 telocal_multi 6029\n",
       "5 telocal_multi 2015\n",
       "6 telocal_multi 5755"
      ]
     },
     "metadata": {},
     "output_type": "display_data"
    }
   ],
   "source": [
    "head(df)"
   ]
  },
  {
   "cell_type": "code",
   "execution_count": null,
   "metadata": {
    "vscode": {
     "languageId": "r"
    }
   },
   "outputs": [],
   "source": []
  }
 ],
 "metadata": {
  "kernelspec": {
   "display_name": "R",
   "language": "R",
   "name": "ir"
  },
  "language_info": {
   "codemirror_mode": "r",
   "file_extension": ".r",
   "mimetype": "text/x-r-source",
   "name": "R",
   "pygments_lexer": "r",
   "version": "4.2.2"
  },
  "orig_nbformat": 4
 },
 "nbformat": 4,
 "nbformat_minor": 2
}
