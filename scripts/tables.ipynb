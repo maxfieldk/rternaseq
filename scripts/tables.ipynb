{
 "cells": [
  {
   "cell_type": "code",
   "execution_count": 25,
   "metadata": {
    "vscode": {
     "languageId": "r"
    }
   },
   "outputs": [
    {
     "name": "stderr",
     "output_type": "stream",
     "text": [
      "also installing the dependencies 'V8', 'commonmark', 'juicyjuice'\n",
      "\n",
      "\n",
      "Warning message in install.packages(\"gt\"):\n",
      "\"installation of package 'V8' had non-zero exit status\"\n",
      "Warning message in install.packages(\"gt\"):\n",
      "\"installation of package 'commonmark' had non-zero exit status\"\n",
      "Warning message in install.packages(\"gt\"):\n",
      "\"installation of package 'juicyjuice' had non-zero exit status\"\n",
      "Warning message in install.packages(\"gt\"):\n",
      "\"installation of package 'gt' had non-zero exit status\"\n"
     ]
    }
   ],
   "source": [
    "install.packages(\"gt\")"
   ]
  },
  {
   "cell_type": "code",
   "execution_count": 26,
   "metadata": {
    "vscode": {
     "languageId": "r"
    }
   },
   "outputs": [
    {
     "ename": "ERROR",
     "evalue": "Error in library(gt): there is no package called 'gt'\n",
     "output_type": "error",
     "traceback": [
      "Error in library(gt): there is no package called 'gt'\nTraceback:\n",
      "1. library(gt)"
     ]
    }
   ],
   "source": [
    "library(magrittr)\n",
    "library(stringr)\n",
    "library(ggplot2)\n",
    "library(tibble)\n",
    "library(readr)\n",
    "library(dplyr)\n",
    "library(tidyr)\n",
    "library(paletteer)\n",
    "library(gt)"
   ]
  },
  {
   "cell_type": "code",
   "execution_count": 9,
   "metadata": {
    "vscode": {
     "languageId": "r"
    }
   },
   "outputs": [
    {
     "name": "stderr",
     "output_type": "stream",
     "text": [
      "\u001b[1m\u001b[22mNew names:\n",
      "\u001b[36m*\u001b[39m `` -> `...1`\n",
      "\u001b[1mRows: \u001b[22m\u001b[34m380067\u001b[39m \u001b[1mColumns: \u001b[22m\u001b[34m7\u001b[39m\n",
      "\u001b[36m--\u001b[39m \u001b[1mColumn specification\u001b[22m \u001b[36m--------------------------------------------------------\u001b[39m\n",
      "\u001b[1mDelimiter:\u001b[22m \",\"\n",
      "\u001b[31mchr\u001b[39m (1): ...1\n",
      "\u001b[32mdbl\u001b[39m (6): baseMean, log2FoldChange, lfcSE, stat, pvalue, padj\n",
      "\n",
      "\u001b[36mi\u001b[39m Use `spec()` to retrieve the full column specification for this data.\n",
      "\u001b[36mi\u001b[39m Specify the column types or set `show_col_types = FALSE` to quiet this message.\n"
     ]
    }
   ],
   "source": [
    "    res <- read_csv(\"/users/mkelsey/data/senescence/results/agg/deseq2/telocal_multi/condition_SEN_vs_PRO/results.csv\")"
   ]
  },
  {
   "cell_type": "code",
   "execution_count": 15,
   "metadata": {
    "vscode": {
     "languageId": "r"
    }
   },
   "outputs": [
    {
     "data": {
      "text/html": [
       "<table class=\"dataframe\">\n",
       "<caption>A tibble: 380067 x 4</caption>\n",
       "<thead>\n",
       "\t<tr><th scope=col>gene</th><th scope=col>baseMean</th><th scope=col>log2FoldChange</th><th scope=col>padj</th></tr>\n",
       "\t<tr><th scope=col>&lt;chr&gt;</th><th scope=col>&lt;dbl&gt;</th><th scope=col>&lt;dbl&gt;</th><th scope=col>&lt;dbl&gt;</th></tr>\n",
       "</thead>\n",
       "<tbody>\n",
       "\t<tr><td>ABLIM3      </td><td>22150.595</td><td> 1.912648</td><td>0</td></tr>\n",
       "\t<tr><td>AKR1C1      </td><td> 2730.610</td><td>-3.640755</td><td>0</td></tr>\n",
       "\t<tr><td>CCND2       </td><td>14162.534</td><td> 4.429599</td><td>0</td></tr>\n",
       "\t<tr><td>CCPG1       </td><td> 5456.937</td><td> 3.441674</td><td>0</td></tr>\n",
       "\t<tr><td>CHST2       </td><td> 9653.567</td><td> 5.805043</td><td>0</td></tr>\n",
       "\t<tr><td>CLDN1       </td><td>11486.050</td><td> 4.710587</td><td>0</td></tr>\n",
       "\t<tr><td>CLSTN2      </td><td>10657.357</td><td> 7.284035</td><td>0</td></tr>\n",
       "\t<tr><td>CPE         </td><td>20674.713</td><td> 4.416008</td><td>0</td></tr>\n",
       "\t<tr><td>CRISPLD2    </td><td> 6030.601</td><td>-3.273589</td><td>0</td></tr>\n",
       "\t<tr><td>DNAAF4-CCPG1</td><td> 4193.751</td><td> 3.392779</td><td>0</td></tr>\n",
       "\t<tr><td>FAS         </td><td> 3454.643</td><td> 2.592856</td><td>0</td></tr>\n",
       "\t<tr><td>HMGB2       </td><td> 3818.690</td><td>-3.059295</td><td>0</td></tr>\n",
       "\t<tr><td>HSPA2       </td><td> 1414.166</td><td>-5.415129</td><td>0</td></tr>\n",
       "\t<tr><td>KIF20A      </td><td> 3133.840</td><td>-3.234098</td><td>0</td></tr>\n",
       "\t<tr><td>MATN2       </td><td> 1019.139</td><td>-4.667628</td><td>0</td></tr>\n",
       "\t<tr><td>MXRA5       </td><td>19150.067</td><td> 6.672355</td><td>0</td></tr>\n",
       "\t<tr><td>NRP2        </td><td> 5192.292</td><td>-3.596992</td><td>0</td></tr>\n",
       "\t<tr><td>NTM         </td><td> 8430.957</td><td> 3.156023</td><td>0</td></tr>\n",
       "\t<tr><td>OLFML2A     </td><td>  914.476</td><td>-4.542179</td><td>0</td></tr>\n",
       "\t<tr><td>PAPPA2      </td><td> 5420.150</td><td> 4.992683</td><td>0</td></tr>\n",
       "\t<tr><td>PCDH10      </td><td> 4216.380</td><td> 3.275442</td><td>0</td></tr>\n",
       "\t<tr><td>PDPN        </td><td> 4165.624</td><td> 5.431140</td><td>0</td></tr>\n",
       "\t<tr><td>PIM1        </td><td> 2011.876</td><td>-5.062142</td><td>0</td></tr>\n",
       "\t<tr><td>PLXDC2      </td><td> 6935.289</td><td> 5.391421</td><td>0</td></tr>\n",
       "\t<tr><td>PPME1       </td><td>11816.138</td><td>-2.068226</td><td>0</td></tr>\n",
       "\t<tr><td>PSAT1       </td><td>12069.682</td><td> 2.923846</td><td>0</td></tr>\n",
       "\t<tr><td>SERPINB8    </td><td> 3850.002</td><td> 2.197657</td><td>0</td></tr>\n",
       "\t<tr><td>SLAMF7      </td><td> 3257.655</td><td> 5.446044</td><td>0</td></tr>\n",
       "\t<tr><td>SLC20A1     </td><td>21237.043</td><td> 3.047734</td><td>0</td></tr>\n",
       "\t<tr><td>SOX9        </td><td> 1842.850</td><td> 3.826491</td><td>0</td></tr>\n",
       "\t<tr><td>...</td><td>...</td><td>...</td><td>...</td></tr>\n",
       "\t<tr><td>HERVK-int_dup47:HERVK-int:ERVK:LTR     </td><td> 52.678499</td><td> -2.2785774</td><td>NA</td></tr>\n",
       "\t<tr><td>L1MB8_dup8038:L1MB8:L1:LINE            </td><td> 38.705792</td><td> -0.7211590</td><td>NA</td></tr>\n",
       "\t<tr><td>L1MC4a_dup4437:L1MC4a:L1:LINE          </td><td>  6.681668</td><td>  0.1394057</td><td>NA</td></tr>\n",
       "\t<tr><td>L1MC_dup3365:L1MC:L1:LINE              </td><td>  4.354565</td><td>  0.6802243</td><td>NA</td></tr>\n",
       "\t<tr><td>L1MC_dup3385:L1MC:L1:LINE              </td><td> 12.837187</td><td>  0.1392891</td><td>NA</td></tr>\n",
       "\t<tr><td>L1MCc_dup501:L1MCc:L1:LINE             </td><td> 13.361288</td><td>  0.1392476</td><td>NA</td></tr>\n",
       "\t<tr><td>L1MEb_dup143:L1MEb:L1:LINE             </td><td>  6.771887</td><td>  0.1395015</td><td>NA</td></tr>\n",
       "\t<tr><td>L2a_dup101207:L2a:L2:LINE              </td><td>  6.134423</td><td>  0.1393859</td><td>NA</td></tr>\n",
       "\t<tr><td>L2a_dup81124:L2a:L2:LINE               </td><td>  6.516686</td><td>  0.1393893</td><td>NA</td></tr>\n",
       "\t<tr><td>L2c_dup17904:L2c:L2:LINE               </td><td>  8.052116</td><td>  0.1393540</td><td>NA</td></tr>\n",
       "\t<tr><td>L2d2_dup33528:L2d2:L2:LINE             </td><td> 10.739495</td><td>  0.1393033</td><td>NA</td></tr>\n",
       "\t<tr><td>L3_dup12216:L3:CR1:LINE                </td><td> 13.252950</td><td>  0.1392830</td><td>NA</td></tr>\n",
       "\t<tr><td>L3_dup28506:L3:CR1:LINE                </td><td> 17.427401</td><td>-30.0000000</td><td>NA</td></tr>\n",
       "\t<tr><td>L3b_dup7131:L3b:CR1:LINE               </td><td> 10.968248</td><td>-20.4995276</td><td>NA</td></tr>\n",
       "\t<tr><td>LTR103_Mam_dup194:LTR103_Mam:ERV1:LTR  </td><td> 38.269489</td><td>-27.5593686</td><td>NA</td></tr>\n",
       "\t<tr><td>LTR12C_dup824:LTR12C:ERV1:LTR          </td><td>  8.079423</td><td> -2.9206518</td><td>NA</td></tr>\n",
       "\t<tr><td>MER58A_dup6157:MER58A:hAT-Charlie:DNA  </td><td> 15.281588</td><td> -1.5267968</td><td>NA</td></tr>\n",
       "\t<tr><td>MER58A_dup6162:MER58A:hAT-Charlie:DNA  </td><td>  4.415126</td><td>  0.1395378</td><td>NA</td></tr>\n",
       "\t<tr><td>MER5A_dup24893:MER5A:hAT-Charlie:DNA   </td><td> 19.738438</td><td>-28.3891522</td><td>NA</td></tr>\n",
       "\t<tr><td>MER5B_dup5168:MER5B:hAT-Charlie:DNA    </td><td> 21.346205</td><td>-24.8243012</td><td>NA</td></tr>\n",
       "\t<tr><td>MIR3_dup12571:MIR3:MIR:SINE            </td><td> 25.953035</td><td>-30.0000000</td><td>NA</td></tr>\n",
       "\t<tr><td>MIR3_dup12973:MIR3:MIR:SINE            </td><td> 17.256968</td><td>-29.1140062</td><td>NA</td></tr>\n",
       "\t<tr><td>MIR3_dup73381:MIR3:MIR:SINE            </td><td>  9.580361</td><td>-14.2396189</td><td>NA</td></tr>\n",
       "\t<tr><td>MIRb_dup100140:MIRb:MIR:SINE           </td><td>  4.846865</td><td>  0.1393828</td><td>NA</td></tr>\n",
       "\t<tr><td>MIRb_dup29786:MIRb:MIR:SINE            </td><td> 40.003037</td><td>-29.6462027</td><td>NA</td></tr>\n",
       "\t<tr><td>MIRc_dup55742:MIRc:MIR:SINE            </td><td> 20.127375</td><td>-23.0418369</td><td>NA</td></tr>\n",
       "\t<tr><td>MIRc_dup75968:MIRc:MIR:SINE            </td><td>  6.089472</td><td>-11.4872233</td><td>NA</td></tr>\n",
       "\t<tr><td>PABL_B_dup82:PABL_B:ERV1:LTR           </td><td>  3.636580</td><td>  0.1396069</td><td>NA</td></tr>\n",
       "\t<tr><td>THE1A_dup1163:THE1A:ERVL-MaLR:LTR      </td><td>136.858341</td><td> 12.3809192</td><td>NA</td></tr>\n",
       "\t<tr><td>Tigger3_dup197:Tigger3:TcMar-Tigger:DNA</td><td> 12.666018</td><td>  0.1392694</td><td>NA</td></tr>\n",
       "</tbody>\n",
       "</table>\n"
      ],
      "text/latex": [
       "A tibble: 380067 x 4\n",
       "\\begin{tabular}{llll}\n",
       " gene & baseMean & log2FoldChange & padj\\\\\n",
       " <chr> & <dbl> & <dbl> & <dbl>\\\\\n",
       "\\hline\n",
       "\t ABLIM3       & 22150.595 &  1.912648 & 0\\\\\n",
       "\t AKR1C1       &  2730.610 & -3.640755 & 0\\\\\n",
       "\t CCND2        & 14162.534 &  4.429599 & 0\\\\\n",
       "\t CCPG1        &  5456.937 &  3.441674 & 0\\\\\n",
       "\t CHST2        &  9653.567 &  5.805043 & 0\\\\\n",
       "\t CLDN1        & 11486.050 &  4.710587 & 0\\\\\n",
       "\t CLSTN2       & 10657.357 &  7.284035 & 0\\\\\n",
       "\t CPE          & 20674.713 &  4.416008 & 0\\\\\n",
       "\t CRISPLD2     &  6030.601 & -3.273589 & 0\\\\\n",
       "\t DNAAF4-CCPG1 &  4193.751 &  3.392779 & 0\\\\\n",
       "\t FAS          &  3454.643 &  2.592856 & 0\\\\\n",
       "\t HMGB2        &  3818.690 & -3.059295 & 0\\\\\n",
       "\t HSPA2        &  1414.166 & -5.415129 & 0\\\\\n",
       "\t KIF20A       &  3133.840 & -3.234098 & 0\\\\\n",
       "\t MATN2        &  1019.139 & -4.667628 & 0\\\\\n",
       "\t MXRA5        & 19150.067 &  6.672355 & 0\\\\\n",
       "\t NRP2         &  5192.292 & -3.596992 & 0\\\\\n",
       "\t NTM          &  8430.957 &  3.156023 & 0\\\\\n",
       "\t OLFML2A      &   914.476 & -4.542179 & 0\\\\\n",
       "\t PAPPA2       &  5420.150 &  4.992683 & 0\\\\\n",
       "\t PCDH10       &  4216.380 &  3.275442 & 0\\\\\n",
       "\t PDPN         &  4165.624 &  5.431140 & 0\\\\\n",
       "\t PIM1         &  2011.876 & -5.062142 & 0\\\\\n",
       "\t PLXDC2       &  6935.289 &  5.391421 & 0\\\\\n",
       "\t PPME1        & 11816.138 & -2.068226 & 0\\\\\n",
       "\t PSAT1        & 12069.682 &  2.923846 & 0\\\\\n",
       "\t SERPINB8     &  3850.002 &  2.197657 & 0\\\\\n",
       "\t SLAMF7       &  3257.655 &  5.446044 & 0\\\\\n",
       "\t SLC20A1      & 21237.043 &  3.047734 & 0\\\\\n",
       "\t SOX9         &  1842.850 &  3.826491 & 0\\\\\n",
       "\t ... & ... & ... & ...\\\\\n",
       "\t HERVK-int\\_dup47:HERVK-int:ERVK:LTR      &  52.678499 &  -2.2785774 & NA\\\\\n",
       "\t L1MB8\\_dup8038:L1MB8:L1:LINE             &  38.705792 &  -0.7211590 & NA\\\\\n",
       "\t L1MC4a\\_dup4437:L1MC4a:L1:LINE           &   6.681668 &   0.1394057 & NA\\\\\n",
       "\t L1MC\\_dup3365:L1MC:L1:LINE               &   4.354565 &   0.6802243 & NA\\\\\n",
       "\t L1MC\\_dup3385:L1MC:L1:LINE               &  12.837187 &   0.1392891 & NA\\\\\n",
       "\t L1MCc\\_dup501:L1MCc:L1:LINE              &  13.361288 &   0.1392476 & NA\\\\\n",
       "\t L1MEb\\_dup143:L1MEb:L1:LINE              &   6.771887 &   0.1395015 & NA\\\\\n",
       "\t L2a\\_dup101207:L2a:L2:LINE               &   6.134423 &   0.1393859 & NA\\\\\n",
       "\t L2a\\_dup81124:L2a:L2:LINE                &   6.516686 &   0.1393893 & NA\\\\\n",
       "\t L2c\\_dup17904:L2c:L2:LINE                &   8.052116 &   0.1393540 & NA\\\\\n",
       "\t L2d2\\_dup33528:L2d2:L2:LINE              &  10.739495 &   0.1393033 & NA\\\\\n",
       "\t L3\\_dup12216:L3:CR1:LINE                 &  13.252950 &   0.1392830 & NA\\\\\n",
       "\t L3\\_dup28506:L3:CR1:LINE                 &  17.427401 & -30.0000000 & NA\\\\\n",
       "\t L3b\\_dup7131:L3b:CR1:LINE                &  10.968248 & -20.4995276 & NA\\\\\n",
       "\t LTR103\\_Mam\\_dup194:LTR103\\_Mam:ERV1:LTR   &  38.269489 & -27.5593686 & NA\\\\\n",
       "\t LTR12C\\_dup824:LTR12C:ERV1:LTR           &   8.079423 &  -2.9206518 & NA\\\\\n",
       "\t MER58A\\_dup6157:MER58A:hAT-Charlie:DNA   &  15.281588 &  -1.5267968 & NA\\\\\n",
       "\t MER58A\\_dup6162:MER58A:hAT-Charlie:DNA   &   4.415126 &   0.1395378 & NA\\\\\n",
       "\t MER5A\\_dup24893:MER5A:hAT-Charlie:DNA    &  19.738438 & -28.3891522 & NA\\\\\n",
       "\t MER5B\\_dup5168:MER5B:hAT-Charlie:DNA     &  21.346205 & -24.8243012 & NA\\\\\n",
       "\t MIR3\\_dup12571:MIR3:MIR:SINE             &  25.953035 & -30.0000000 & NA\\\\\n",
       "\t MIR3\\_dup12973:MIR3:MIR:SINE             &  17.256968 & -29.1140062 & NA\\\\\n",
       "\t MIR3\\_dup73381:MIR3:MIR:SINE             &   9.580361 & -14.2396189 & NA\\\\\n",
       "\t MIRb\\_dup100140:MIRb:MIR:SINE            &   4.846865 &   0.1393828 & NA\\\\\n",
       "\t MIRb\\_dup29786:MIRb:MIR:SINE             &  40.003037 & -29.6462027 & NA\\\\\n",
       "\t MIRc\\_dup55742:MIRc:MIR:SINE             &  20.127375 & -23.0418369 & NA\\\\\n",
       "\t MIRc\\_dup75968:MIRc:MIR:SINE             &   6.089472 & -11.4872233 & NA\\\\\n",
       "\t PABL\\_B\\_dup82:PABL\\_B:ERV1:LTR            &   3.636580 &   0.1396069 & NA\\\\\n",
       "\t THE1A\\_dup1163:THE1A:ERVL-MaLR:LTR       & 136.858341 &  12.3809192 & NA\\\\\n",
       "\t Tigger3\\_dup197:Tigger3:TcMar-Tigger:DNA &  12.666018 &   0.1392694 & NA\\\\\n",
       "\\end{tabular}\n"
      ],
      "text/markdown": [
       "\n",
       "A tibble: 380067 x 4\n",
       "\n",
       "| gene &lt;chr&gt; | baseMean &lt;dbl&gt; | log2FoldChange &lt;dbl&gt; | padj &lt;dbl&gt; |\n",
       "|---|---|---|---|\n",
       "| ABLIM3       | 22150.595 |  1.912648 | 0 |\n",
       "| AKR1C1       |  2730.610 | -3.640755 | 0 |\n",
       "| CCND2        | 14162.534 |  4.429599 | 0 |\n",
       "| CCPG1        |  5456.937 |  3.441674 | 0 |\n",
       "| CHST2        |  9653.567 |  5.805043 | 0 |\n",
       "| CLDN1        | 11486.050 |  4.710587 | 0 |\n",
       "| CLSTN2       | 10657.357 |  7.284035 | 0 |\n",
       "| CPE          | 20674.713 |  4.416008 | 0 |\n",
       "| CRISPLD2     |  6030.601 | -3.273589 | 0 |\n",
       "| DNAAF4-CCPG1 |  4193.751 |  3.392779 | 0 |\n",
       "| FAS          |  3454.643 |  2.592856 | 0 |\n",
       "| HMGB2        |  3818.690 | -3.059295 | 0 |\n",
       "| HSPA2        |  1414.166 | -5.415129 | 0 |\n",
       "| KIF20A       |  3133.840 | -3.234098 | 0 |\n",
       "| MATN2        |  1019.139 | -4.667628 | 0 |\n",
       "| MXRA5        | 19150.067 |  6.672355 | 0 |\n",
       "| NRP2         |  5192.292 | -3.596992 | 0 |\n",
       "| NTM          |  8430.957 |  3.156023 | 0 |\n",
       "| OLFML2A      |   914.476 | -4.542179 | 0 |\n",
       "| PAPPA2       |  5420.150 |  4.992683 | 0 |\n",
       "| PCDH10       |  4216.380 |  3.275442 | 0 |\n",
       "| PDPN         |  4165.624 |  5.431140 | 0 |\n",
       "| PIM1         |  2011.876 | -5.062142 | 0 |\n",
       "| PLXDC2       |  6935.289 |  5.391421 | 0 |\n",
       "| PPME1        | 11816.138 | -2.068226 | 0 |\n",
       "| PSAT1        | 12069.682 |  2.923846 | 0 |\n",
       "| SERPINB8     |  3850.002 |  2.197657 | 0 |\n",
       "| SLAMF7       |  3257.655 |  5.446044 | 0 |\n",
       "| SLC20A1      | 21237.043 |  3.047734 | 0 |\n",
       "| SOX9         |  1842.850 |  3.826491 | 0 |\n",
       "| ... | ... | ... | ... |\n",
       "| HERVK-int_dup47:HERVK-int:ERVK:LTR      |  52.678499 |  -2.2785774 | NA |\n",
       "| L1MB8_dup8038:L1MB8:L1:LINE             |  38.705792 |  -0.7211590 | NA |\n",
       "| L1MC4a_dup4437:L1MC4a:L1:LINE           |   6.681668 |   0.1394057 | NA |\n",
       "| L1MC_dup3365:L1MC:L1:LINE               |   4.354565 |   0.6802243 | NA |\n",
       "| L1MC_dup3385:L1MC:L1:LINE               |  12.837187 |   0.1392891 | NA |\n",
       "| L1MCc_dup501:L1MCc:L1:LINE              |  13.361288 |   0.1392476 | NA |\n",
       "| L1MEb_dup143:L1MEb:L1:LINE              |   6.771887 |   0.1395015 | NA |\n",
       "| L2a_dup101207:L2a:L2:LINE               |   6.134423 |   0.1393859 | NA |\n",
       "| L2a_dup81124:L2a:L2:LINE                |   6.516686 |   0.1393893 | NA |\n",
       "| L2c_dup17904:L2c:L2:LINE                |   8.052116 |   0.1393540 | NA |\n",
       "| L2d2_dup33528:L2d2:L2:LINE              |  10.739495 |   0.1393033 | NA |\n",
       "| L3_dup12216:L3:CR1:LINE                 |  13.252950 |   0.1392830 | NA |\n",
       "| L3_dup28506:L3:CR1:LINE                 |  17.427401 | -30.0000000 | NA |\n",
       "| L3b_dup7131:L3b:CR1:LINE                |  10.968248 | -20.4995276 | NA |\n",
       "| LTR103_Mam_dup194:LTR103_Mam:ERV1:LTR   |  38.269489 | -27.5593686 | NA |\n",
       "| LTR12C_dup824:LTR12C:ERV1:LTR           |   8.079423 |  -2.9206518 | NA |\n",
       "| MER58A_dup6157:MER58A:hAT-Charlie:DNA   |  15.281588 |  -1.5267968 | NA |\n",
       "| MER58A_dup6162:MER58A:hAT-Charlie:DNA   |   4.415126 |   0.1395378 | NA |\n",
       "| MER5A_dup24893:MER5A:hAT-Charlie:DNA    |  19.738438 | -28.3891522 | NA |\n",
       "| MER5B_dup5168:MER5B:hAT-Charlie:DNA     |  21.346205 | -24.8243012 | NA |\n",
       "| MIR3_dup12571:MIR3:MIR:SINE             |  25.953035 | -30.0000000 | NA |\n",
       "| MIR3_dup12973:MIR3:MIR:SINE             |  17.256968 | -29.1140062 | NA |\n",
       "| MIR3_dup73381:MIR3:MIR:SINE             |   9.580361 | -14.2396189 | NA |\n",
       "| MIRb_dup100140:MIRb:MIR:SINE            |   4.846865 |   0.1393828 | NA |\n",
       "| MIRb_dup29786:MIRb:MIR:SINE             |  40.003037 | -29.6462027 | NA |\n",
       "| MIRc_dup55742:MIRc:MIR:SINE             |  20.127375 | -23.0418369 | NA |\n",
       "| MIRc_dup75968:MIRc:MIR:SINE             |   6.089472 | -11.4872233 | NA |\n",
       "| PABL_B_dup82:PABL_B:ERV1:LTR            |   3.636580 |   0.1396069 | NA |\n",
       "| THE1A_dup1163:THE1A:ERVL-MaLR:LTR       | 136.858341 |  12.3809192 | NA |\n",
       "| Tigger3_dup197:Tigger3:TcMar-Tigger:DNA |  12.666018 |   0.1392694 | NA |\n",
       "\n"
      ],
      "text/plain": [
       "       gene                                    baseMean   log2FoldChange padj\n",
       "1      ABLIM3                                  22150.595   1.912648      0   \n",
       "2      AKR1C1                                   2730.610  -3.640755      0   \n",
       "3      CCND2                                   14162.534   4.429599      0   \n",
       "4      CCPG1                                    5456.937   3.441674      0   \n",
       "5      CHST2                                    9653.567   5.805043      0   \n",
       "6      CLDN1                                   11486.050   4.710587      0   \n",
       "7      CLSTN2                                  10657.357   7.284035      0   \n",
       "8      CPE                                     20674.713   4.416008      0   \n",
       "9      CRISPLD2                                 6030.601  -3.273589      0   \n",
       "10     DNAAF4-CCPG1                             4193.751   3.392779      0   \n",
       "11     FAS                                      3454.643   2.592856      0   \n",
       "12     HMGB2                                    3818.690  -3.059295      0   \n",
       "13     HSPA2                                    1414.166  -5.415129      0   \n",
       "14     KIF20A                                   3133.840  -3.234098      0   \n",
       "15     MATN2                                    1019.139  -4.667628      0   \n",
       "16     MXRA5                                   19150.067   6.672355      0   \n",
       "17     NRP2                                     5192.292  -3.596992      0   \n",
       "18     NTM                                      8430.957   3.156023      0   \n",
       "19     OLFML2A                                   914.476  -4.542179      0   \n",
       "20     PAPPA2                                   5420.150   4.992683      0   \n",
       "21     PCDH10                                   4216.380   3.275442      0   \n",
       "22     PDPN                                     4165.624   5.431140      0   \n",
       "23     PIM1                                     2011.876  -5.062142      0   \n",
       "24     PLXDC2                                   6935.289   5.391421      0   \n",
       "25     PPME1                                   11816.138  -2.068226      0   \n",
       "26     PSAT1                                   12069.682   2.923846      0   \n",
       "27     SERPINB8                                 3850.002   2.197657      0   \n",
       "28     SLAMF7                                   3257.655   5.446044      0   \n",
       "29     SLC20A1                                 21237.043   3.047734      0   \n",
       "30     SOX9                                     1842.850   3.826491      0   \n",
       "...    ...                                     ...        ...            ... \n",
       "380038 HERVK-int_dup47:HERVK-int:ERVK:LTR       52.678499  -2.2785774    NA  \n",
       "380039 L1MB8_dup8038:L1MB8:L1:LINE              38.705792  -0.7211590    NA  \n",
       "380040 L1MC4a_dup4437:L1MC4a:L1:LINE             6.681668   0.1394057    NA  \n",
       "380041 L1MC_dup3365:L1MC:L1:LINE                 4.354565   0.6802243    NA  \n",
       "380042 L1MC_dup3385:L1MC:L1:LINE                12.837187   0.1392891    NA  \n",
       "380043 L1MCc_dup501:L1MCc:L1:LINE               13.361288   0.1392476    NA  \n",
       "380044 L1MEb_dup143:L1MEb:L1:LINE                6.771887   0.1395015    NA  \n",
       "380045 L2a_dup101207:L2a:L2:LINE                 6.134423   0.1393859    NA  \n",
       "380046 L2a_dup81124:L2a:L2:LINE                  6.516686   0.1393893    NA  \n",
       "380047 L2c_dup17904:L2c:L2:LINE                  8.052116   0.1393540    NA  \n",
       "380048 L2d2_dup33528:L2d2:L2:LINE               10.739495   0.1393033    NA  \n",
       "380049 L3_dup12216:L3:CR1:LINE                  13.252950   0.1392830    NA  \n",
       "380050 L3_dup28506:L3:CR1:LINE                  17.427401 -30.0000000    NA  \n",
       "380051 L3b_dup7131:L3b:CR1:LINE                 10.968248 -20.4995276    NA  \n",
       "380052 LTR103_Mam_dup194:LTR103_Mam:ERV1:LTR    38.269489 -27.5593686    NA  \n",
       "380053 LTR12C_dup824:LTR12C:ERV1:LTR             8.079423  -2.9206518    NA  \n",
       "380054 MER58A_dup6157:MER58A:hAT-Charlie:DNA    15.281588  -1.5267968    NA  \n",
       "380055 MER58A_dup6162:MER58A:hAT-Charlie:DNA     4.415126   0.1395378    NA  \n",
       "380056 MER5A_dup24893:MER5A:hAT-Charlie:DNA     19.738438 -28.3891522    NA  \n",
       "380057 MER5B_dup5168:MER5B:hAT-Charlie:DNA      21.346205 -24.8243012    NA  \n",
       "380058 MIR3_dup12571:MIR3:MIR:SINE              25.953035 -30.0000000    NA  \n",
       "380059 MIR3_dup12973:MIR3:MIR:SINE              17.256968 -29.1140062    NA  \n",
       "380060 MIR3_dup73381:MIR3:MIR:SINE               9.580361 -14.2396189    NA  \n",
       "380061 MIRb_dup100140:MIRb:MIR:SINE              4.846865   0.1393828    NA  \n",
       "380062 MIRb_dup29786:MIRb:MIR:SINE              40.003037 -29.6462027    NA  \n",
       "380063 MIRc_dup55742:MIRc:MIR:SINE              20.127375 -23.0418369    NA  \n",
       "380064 MIRc_dup75968:MIRc:MIR:SINE               6.089472 -11.4872233    NA  \n",
       "380065 PABL_B_dup82:PABL_B:ERV1:LTR              3.636580   0.1396069    NA  \n",
       "380066 THE1A_dup1163:THE1A:ERVL-MaLR:LTR       136.858341  12.3809192    NA  \n",
       "380067 Tigger3_dup197:Tigger3:TcMar-Tigger:DNA  12.666018   0.1392694    NA  "
      ]
     },
     "metadata": {},
     "output_type": "display_data"
    }
   ],
   "source": [
    "res %>% rename(gene = ...1) %>%\n",
    "select(-c(lfcSE, stat, pvalue))"
   ]
  },
  {
   "cell_type": "code",
   "execution_count": 23,
   "metadata": {
    "vscode": {
     "languageId": "r"
    }
   },
   "outputs": [
    {
     "ename": "ERROR",
     "evalue": "Error in gt(.): could not find function \"gt\"\n",
     "output_type": "error",
     "traceback": [
      "Error in gt(.): could not find function \"gt\"\nTraceback:\n",
      "1. res %>% arrange(padj, log2FoldChange) %>% head(20) %>% gt()"
     ]
    }
   ],
   "source": [
    "res %>% arrange(padj, log2FoldChange) %>% head(20) %>%\n",
    "gt()"
   ]
  }
 ],
 "metadata": {
  "kernelspec": {
   "display_name": "R",
   "language": "R",
   "name": "ir"
  },
  "language_info": {
   "codemirror_mode": "r",
   "file_extension": ".r",
   "mimetype": "text/x-r-source",
   "name": "R",
   "pygments_lexer": "r",
   "version": "4.1.3"
  },
  "orig_nbformat": 4,
  "vscode": {
   "interpreter": {
    "hash": "f761be996efc06437d5e723324e4d7ab3d15997e744144cbb0c7edcc7bcf6b54"
   }
  }
 },
 "nbformat": 4,
 "nbformat_minor": 2
}
